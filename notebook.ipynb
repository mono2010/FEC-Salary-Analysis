{
 "cells": [
  {
   "cell_type": "code",
   "execution_count": 4,
   "metadata": {},
   "outputs": [],
   "source": [
    "from bs4 import BeautifulSoup\n",
    "import requests\n",
    "import re"
   ]
  },
  {
   "cell_type": "code",
   "execution_count": 5,
   "metadata": {},
   "outputs": [],
   "source": [
    "# web scraping code\n",
    "url = 'https://www.fec.gov/data/browse-data/?tab=bulk-data'\n",
    "res = requests.get(url)\n",
    "soup = BeautifulSoup(res.content, 'lxml')\n",
    "loop = soup.find_all('a')\n",
    "\n",
    "# regex to match the type of file I'm looking for\n",
    "p = re.compile('/files/bulk-downloads/\\d+\\Woppexp\\d+\\Wzip') "
   ]
  },
  {
   "cell_type": "code",
   "execution_count": 7,
   "metadata": {},
   "outputs": [],
   "source": [
    "links = []\n",
    "for i in loop:\n",
    "    if 'files/bulk-downloads' in str(i):\n",
    "        dict = {}\n",
    "        dict = i['href']\n",
    "        links.append(dict)\n",
    "\n",
    "# just learned how to do this\n",
    "# https://stackoverflow.com/questions/33960334/filter-list-with-regex/33960579\n",
    "files = [i for i in links if p.match(i)]"
   ]
  },
  {
   "cell_type": "code",
   "execution_count": 8,
   "metadata": {},
   "outputs": [],
   "source": [
    "url = 'https://www.fec.gov'\n",
    "files = [url+i for i in files]\n",
    "filenames = [i[-12:] for i in files]"
   ]
  },
  {
   "cell_type": "code",
   "execution_count": 24,
   "metadata": {},
   "outputs": [],
   "source": [
    "for i in range(len(filenames)):\n",
    "    r =requests.get(files[i])\n",
    "    with open(filenames[i], 'wb') as f:\n",
    "        f.write(r.content)"
   ]
  },
  {
   "cell_type": "code",
   "execution_count": null,
   "metadata": {},
   "outputs": [],
   "source": [
    "import zipfile\n",
    "import os\n",
    "import shutil\n",
    "\n",
    "for i in range(len(filenames)):\n",
    "    shutil.move(filenames[i], 'zips')"
   ]
  },
  {
   "cell_type": "code",
   "execution_count": 157,
   "metadata": {},
   "outputs": [
    {
     "data": {
      "text/plain": [
       "'oppexp04.zip'"
      ]
     },
     "execution_count": 157,
     "metadata": {},
     "output_type": "execute_result"
    }
   ],
   "source": [
    "direct[0]"
   ]
  },
  {
   "cell_type": "code",
   "execution_count": 155,
   "metadata": {},
   "outputs": [],
   "source": [
    "from time import time as timer\n",
    "from multiprocessing import Pool\n",
    "\n",
    "import zipfile\n",
    "import os\n",
    "direct = os.listdir('zips')"
   ]
  },
  {
   "cell_type": "code",
   "execution_count": 147,
   "metadata": {},
   "outputs": [],
   "source": [
    "import os\n",
    "import shutil"
   ]
  },
  {
   "cell_type": "code",
   "execution_count": 131,
   "metadata": {},
   "outputs": [
    {
     "name": "stdout",
     "output_type": "stream",
     "text": [
      "Elapsed Time: 16.266584396362305\n"
     ]
    }
   ],
   "source": [
    "start = timer()\n",
    "\n",
    "for i in range(len(os.listdir('zips'))):\n",
    "    with zipfile.ZipFile('zips/' + direct[i], 'r') as zip_ref:\n",
    "        zip_ref.extractall(path = 'text')\n",
    "        os.rename('text/oppexp.txt', 'text/oppexp_' + str(i) + '.txt')\n",
    "        \n",
    "print(f\"Elapsed Time: {timer() - start}\")"
   ]
  },
  {
   "cell_type": "code",
   "execution_count": 2,
   "metadata": {},
   "outputs": [],
   "source": [
    "import os\n",
    "import shutil"
   ]
  },
  {
   "cell_type": "code",
   "execution_count": 4,
   "metadata": {},
   "outputs": [
    {
     "data": {
      "text/plain": [
       "['oppexp_0.txt',\n",
       " 'oppexp_1.txt',\n",
       " 'oppexp_2.txt',\n",
       " 'oppexp_3.txt',\n",
       " 'oppexp_4.txt',\n",
       " 'oppexp_5.txt',\n",
       " 'oppexp_6.txt',\n",
       " 'oppexp_7.txt',\n",
       " 'oppexp_8.txt']"
      ]
     },
     "execution_count": 4,
     "metadata": {},
     "output_type": "execute_result"
    }
   ],
   "source": [
    "os.listdir('output')"
   ]
  }
 ],
 "metadata": {
  "kernelspec": {
   "display_name": "Python 3",
   "language": "python",
   "name": "python3"
  },
  "language_info": {
   "codemirror_mode": {
    "name": "ipython",
    "version": 3
   },
   "file_extension": ".py",
   "mimetype": "text/x-python",
   "name": "python",
   "nbconvert_exporter": "python",
   "pygments_lexer": "ipython3",
   "version": "3.8.5"
  }
 },
 "nbformat": 4,
 "nbformat_minor": 4
}
