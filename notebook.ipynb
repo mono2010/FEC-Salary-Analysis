{
 "cells": [
  {
   "cell_type": "code",
   "execution_count": 3,
   "metadata": {},
   "outputs": [],
   "source": [
    "from bs4 import BeautifulSoup\n",
    "import zipfile\n",
    "import requests\n",
    "import re\n",
    "import os"
   ]
  },
  {
   "cell_type": "code",
   "execution_count": 126,
   "metadata": {},
   "outputs": [],
   "source": [
    "# web scraping code\n",
    "url = 'https://www.fec.gov/data/browse-data/?tab=bulk-data'\n",
    "res = requests.get(url)\n",
    "soup = BeautifulSoup(res.content, 'lxml')\n",
    "loop = soup.find_all('a')\n",
    "\n",
    "# regex to match the type of file I'm looking for\n",
    "p = re.compile('/files/bulk-downloads/\\d+\\Woppexp\\d+\\Wzip') "
   ]
  },
  {
   "cell_type": "code",
   "execution_count": 127,
   "metadata": {},
   "outputs": [],
   "source": [
    "links = []\n",
    "for i in loop:\n",
    "    if 'files/bulk-downloads' in str(i):\n",
    "        dict = {}\n",
    "        dict = i['href']\n",
    "        links.append(dict)\n",
    "\n",
    "# just learned how to do this\n",
    "# https://stackoverflow.com/questions/33960334/filter-list-with-regex/33960579\n",
    "files = [i for i in links if p.match(i)]"
   ]
  },
  {
   "cell_type": "code",
   "execution_count": 129,
   "metadata": {},
   "outputs": [],
   "source": [
    "url = 'https://www.fec.gov'\n",
    "files = [url+i for i in files]\n",
    "filenames = [i[-12:] for i in files]"
   ]
  },
  {
   "cell_type": "code",
   "execution_count": 133,
   "metadata": {},
   "outputs": [],
   "source": [
    "for i in range(len(filenames)):\n",
    "    r =requests.get(files[i])\n",
    "    with open(filenames[i], 'wb') as f:\n",
    "        f.write(r.content)"
   ]
  },
  {
   "cell_type": "code",
   "execution_count": 64,
   "metadata": {},
   "outputs": [],
   "source": []
  }
 ],
 "metadata": {
  "kernelspec": {
   "display_name": "Python 3",
   "language": "python",
   "name": "python3"
  },
  "language_info": {
   "codemirror_mode": {
    "name": "ipython",
    "version": 3
   },
   "file_extension": ".py",
   "mimetype": "text/x-python",
   "name": "python",
   "nbconvert_exporter": "python",
   "pygments_lexer": "ipython3",
   "version": "3.8.5"
  }
 },
 "nbformat": 4,
 "nbformat_minor": 4
}
